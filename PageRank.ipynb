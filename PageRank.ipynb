{
  "nbformat": 4,
  "nbformat_minor": 0,
  "metadata": {
    "coursera": {
      "course_slug": "linear-algebra-machine-learning",
      "graded_item_id": "Sfbnp",
      "launcher_item_id": "aPxf3"
    },
    "kernelspec": {
      "name": "python3",
      "display_name": "Python 3"
    },
    "colab": {
      "name": "PageRank.ipynb",
      "provenance": [],
      "include_colab_link": true
    }
  },
  "cells": [
    {
      "cell_type": "markdown",
      "metadata": {
        "id": "view-in-github",
        "colab_type": "text"
      },
      "source": [
        "<a href=\"https://colab.research.google.com/github/andrew-veriga/MathForML/blob/master/PageRank.ipynb\" target=\"_parent\"><img src=\"https://colab.research.google.com/assets/colab-badge.svg\" alt=\"Open In Colab\"/></a>"
      ]
    },
    {
      "cell_type": "markdown",
      "metadata": {
        "collapsed": true,
        "id": "FvOqTMDNF42b"
      },
      "source": [
        "# PageRank\n",
        "In this notebook, you'll build on your knowledge of eigenvectors and eigenvalues by exploring the PageRank algorithm.\n",
        "The notebook is in two parts, the first is a worksheet to get you up to speed with how the algorithm works - here we will look at a micro-internet with fewer than 10 websites and see what it does and what can go wrong.\n",
        "The second is an assessment which will test your application of eigentheory to this problem by writing code and calculating the page rank of a large network representing a sub-section of the internet."
      ]
    },
    {
      "cell_type": "markdown",
      "metadata": {
        "id": "mFRIuLd3F42c"
      },
      "source": [
        "## Part 1 - Worksheet\n",
        "### Introduction\n",
        "\n",
        "PageRank (developed by Larry Page and Sergey Brin) revolutionized web search by generating a\n",
        "ranked list of web pages based on the underlying connectivity of the web. The PageRank algorithm is\n",
        "based on an ideal random web surfer who, when reaching a page, goes to the next page by clicking on a\n",
        "link. The surfer has equal probability of clicking any link on the page and, when reaching a page with no\n",
        "links, has equal probability of moving to any other page by typing in its URL. In addition, the surfer may\n",
        "occasionally choose to type in a random URL instead of following the links on a page. The PageRank is\n",
        "the ranked order of the pages from the most to the least probable page the surfer will be viewing.\n"
      ]
    },
    {
      "cell_type": "code",
      "metadata": {
        "id": "melYqjRAF42c"
      },
      "source": [
        "# Before we begin, let's load the libraries.\n",
        "%pylab notebook\n",
        "import numpy as np\n",
        "import numpy.linalg as la\n",
        "from readonly.PageRankFunctions import *\n",
        "np.set_printoptions(suppress=True)"
      ],
      "execution_count": null,
      "outputs": []
    },
    {
      "cell_type": "markdown",
      "metadata": {
        "id": "tRa75X1iF42f"
      },
      "source": [
        "### PageRank as a linear algebra problem\n",
        "Let's imagine a micro-internet, with just 6 websites (**A**vocado, **B**ullseye, **C**atBabel, **D**romeda, **e**Tings, and **F**aceSpace).\n",
        "Each website links to some of the others, and this forms a network as shown,\n",
        "\n",
        "![A Micro-Internet](readonly/internet.png \"A Micro-Internet\")\n",
        "\n",
        "The design principle of PageRank is that important websites will be linked to by important websites.\n",
        "This somewhat recursive principle will form the basis of our thinking.\n",
        "\n",
        "Imagine we have 100 *Procrastinating Pat*s on our micro-internet, each viewing a single website at a time.\n",
        "Each minute the Pats follow a link on their website to another site on the micro-internet.\n",
        "After a while, the websites that are most linked to will have more Pats visiting them, and in the long run, each minute for every Pat that leaves a website, another will enter keeping the total numbers of Pats on each website constant.\n",
        "The PageRank is simply the ranking of websites by how many Pats they have on them at the end of this process.\n",
        "\n",
        "We represent the number of Pats on each website with the vector,\n",
        "$$\\mathbf{r} = \\begin{bmatrix} r_A \\\\ r_B \\\\ r_C \\\\ r_D \\\\ r_E \\\\ r_F \\end{bmatrix}$$\n",
        "And say that the number of Pats on each website in minute $i+1$ is related to those at minute $i$ by the matrix transformation\n",
        "\n",
        "$$ \\mathbf{r}^{(i+1)} = L \\,\\mathbf{r}^{(i)}$$\n",
        "with the matrix $L$ taking the form,\n",
        "$$ L = \\begin{bmatrix}\n",
        "L_{A→A} & L_{B→A} & L_{C→A} & L_{D→A} & L_{E→A} & L_{F→A} \\\\\n",
        "L_{A→B} & L_{B→B} & L_{C→B} & L_{D→B} & L_{E→B} & L_{F→B} \\\\\n",
        "L_{A→C} & L_{B→C} & L_{C→C} & L_{D→C} & L_{E→C} & L_{F→C} \\\\\n",
        "L_{A→D} & L_{B→D} & L_{C→D} & L_{D→D} & L_{E→D} & L_{F→D} \\\\\n",
        "L_{A→E} & L_{B→E} & L_{C→E} & L_{D→E} & L_{E→E} & L_{F→E} \\\\\n",
        "L_{A→F} & L_{B→F} & L_{C→F} & L_{D→F} & L_{E→F} & L_{F→F} \\\\\n",
        "\\end{bmatrix}\n",
        "$$\n",
        "where the columns represent the probability of leaving a website for any other website, and sum to one.\n",
        "The rows determine how likely you are to enter a website from any other, though these need not add to one.\n",
        "The long time behaviour of this system is when $ \\mathbf{r}^{(i+1)} = \\mathbf{r}^{(i)}$, so we'll drop the superscripts here, and that allows us to write,\n",
        "$$ L \\,\\mathbf{r} = \\mathbf{r}$$\n",
        "\n",
        "which is an eigenvalue equation for the matrix $L$, with eigenvalue 1 (this is guaranteed by the probabalistic structure of the matrix $L$).\n",
        "\n",
        "Complete the matrix $L$ below, we've left out the column for which websites the *FaceSpace* website (F) links to.\n",
        "Remember, this is the probability to click on another website from this one, so each column should add to one (by scaling by the number of links)."
      ]
    },
    {
      "cell_type": "code",
      "metadata": {
        "id": "0e1QkS5jF42f"
      },
      "source": [
        "# Replace the ??? here with the probability of clicking a link to each website when leaving Website F (FaceSpace).\n",
        "L = np.array([[0,   1/2, 1/3, 0, 0,   0 ],\n",
        "              [1/3, 0,   0,   0, 1/2, 0 ],\n",
        "              [1/3, 1/2, 0,   1, 0,   1/2 ],\n",
        "              [1/3, 0,   1/3, 0, 1/2, 1/2 ],\n",
        "              [0,   0,   0,   0, 0,   0 ],\n",
        "              [0,   0,   1/3, 0, 0,   0 ]])"
      ],
      "execution_count": null,
      "outputs": []
    },
    {
      "cell_type": "markdown",
      "metadata": {
        "id": "P_211lzAF42f"
      },
      "source": [
        "In principle, we could use a linear algebra library, as below, to calculate the eigenvalues and vectors.\n",
        "And this would work for a small system. But this gets unmanagable for large systems.\n",
        "And since we only care about the principal eigenvector (the one with the largest eigenvalue, which will be 1 in this case), we can use the *power iteration method* which will scale better, and is faster for large systems.\n",
        "\n",
        "Use the code below to peek at the PageRank for this micro-internet."
      ]
    },
    {
      "cell_type": "code",
      "metadata": {
        "id": "pNQilOW4F42f",
        "outputId": "8b079265-ce9f-491c-c052-12c6646d4d79"
      },
      "source": [
        "eVals, eVecs = la.eig(L) # Gets the eigenvalues and vectors\n",
        "order = np.absolute(eVals).argsort()[::-1] # Orders them by their eigenvalues\n",
        "eVals = eVals[order]\n",
        "eVecs = eVecs[:,order]\n",
        "\n",
        "r = eVecs[:, 0] # Sets r to be the principal eigenvector\n",
        "100 * np.real(r / np.sum(r)) # Make this eigenvector sum to one, then multiply by 100 Procrastinating Pats"
      ],
      "execution_count": null,
      "outputs": [
        {
          "output_type": "execute_result",
          "data": {
            "text/plain": [
              "array([ 16.        ,   5.33333333,  40.        ,  25.33333333,\n",
              "         0.        ,  13.33333333])"
            ]
          },
          "metadata": {
            "tags": []
          },
          "execution_count": 3
        }
      ]
    },
    {
      "cell_type": "markdown",
      "metadata": {
        "id": "m4pH7vr4F42f"
      },
      "source": [
        "We can see from this list, the number of Procrastinating Pats that we expect to find on each website after long times.\n",
        "Putting them in order of *popularity* (based on this metric), the PageRank of this micro-internet is:\n",
        "\n",
        "**C**atBabel, **D**romeda, **A**vocado, **F**aceSpace, **B**ullseye, **e**Tings\n",
        "\n",
        "Referring back to the micro-internet diagram, is this what you would have expected?\n",
        "Convince yourself that based on which pages seem important given which others link to them, that this is a sensible ranking.\n",
        "\n",
        "Let's now try to get the same result using the Power-Iteration method that was covered in the video.\n",
        "This method will be much better at dealing with large systems.\n",
        "\n",
        "First let's set up our initial vector, $\\mathbf{r}^{(0)}$, so that we have our 100 Procrastinating Pats equally distributed on each of our 6 websites."
      ]
    },
    {
      "cell_type": "code",
      "metadata": {
        "id": "DqFDZuwwF42f",
        "outputId": "c9dedbf9-542b-49a8-e525-f04c44f3cfe9"
      },
      "source": [
        "r = 100 * np.ones(6) / 6 # Sets up this vector (6 entries of 1/6 × 100 each)\n",
        "r # Shows it's value"
      ],
      "execution_count": null,
      "outputs": [
        {
          "output_type": "execute_result",
          "data": {
            "text/plain": [
              "array([ 16.66666667,  16.66666667,  16.66666667,  16.66666667,\n",
              "        16.66666667,  16.66666667])"
            ]
          },
          "metadata": {
            "tags": []
          },
          "execution_count": 7
        }
      ]
    },
    {
      "cell_type": "markdown",
      "metadata": {
        "id": "qPbCYLvJF42f"
      },
      "source": [
        "Next, let's update the vector to the next minute, with the matrix $L$.\n",
        "Run the following cell multiple times, until the answer stabilises."
      ]
    },
    {
      "cell_type": "code",
      "metadata": {
        "id": "4yXrzNEgF42g",
        "outputId": "ed2a6642-7947-4041-cb70-734bb80a0f24"
      },
      "source": [
        "r = L @ r # Apply matrix L to r\n",
        "r # Show it's value\n",
        "# Re-run this cell multiple times to converge to the correct answer."
      ],
      "execution_count": null,
      "outputs": [
        {
          "output_type": "execute_result",
          "data": {
            "text/plain": [
              "array([ 15.99984084,   5.33336297,  40.00037074,  25.33327825,\n",
              "         0.        ,  13.3331472 ])"
            ]
          },
          "metadata": {
            "tags": []
          },
          "execution_count": 30
        }
      ]
    },
    {
      "cell_type": "markdown",
      "metadata": {
        "id": "XK0FQGygF42g"
      },
      "source": [
        "We can automate applying this matrix multiple times as follows,"
      ]
    },
    {
      "cell_type": "code",
      "metadata": {
        "id": "KJS9udY8F42g",
        "outputId": "319ee4e6-9b60-4eee-b76f-5537a3ba7432"
      },
      "source": [
        "r = 100 * np.ones(6) / 6 # Sets up this vector (6 entries of 1/6 × 100 each)\n",
        "for i in np.arange(100) : # Repeat 100 times\n",
        "    r = L @ r\n",
        "r"
      ],
      "execution_count": null,
      "outputs": [
        {
          "output_type": "execute_result",
          "data": {
            "text/plain": [
              "array([ 16.        ,   5.33333333,  40.        ,  25.33333333,\n",
              "         0.        ,  13.33333333])"
            ]
          },
          "metadata": {
            "tags": []
          },
          "execution_count": 31
        }
      ]
    },
    {
      "cell_type": "markdown",
      "metadata": {
        "id": "WRl5d7rrF42g"
      },
      "source": [
        "Or even better, we can keep running until we get to the required tolerance."
      ]
    },
    {
      "cell_type": "code",
      "metadata": {
        "id": "AAH42bKeF42g",
        "outputId": "d172686f-5963-4044-ff9e-392705d38b10"
      },
      "source": [
        "r = 100 * np.ones(6) / 6 # Sets up this vector (6 entries of 1/6 × 100 each)\n",
        "lastR = r\n",
        "r = L @ r\n",
        "i = 0\n",
        "while la.norm(lastR - r) > 0.01 :\n",
        "    lastR = r\n",
        "    r = L @ r\n",
        "    i += 1\n",
        "print(str(i) + \" iterations to convergence.\")\n",
        "r"
      ],
      "execution_count": null,
      "outputs": [
        {
          "output_type": "stream",
          "text": [
            "18 iterations to convergence.\n"
          ],
          "name": "stdout"
        },
        {
          "output_type": "execute_result",
          "data": {
            "text/plain": [
              "array([ 16.00149917,   5.33252025,  39.99916911,  25.3324738 ,\n",
              "         0.        ,  13.33433767])"
            ]
          },
          "metadata": {
            "tags": []
          },
          "execution_count": 32
        }
      ]
    },
    {
      "cell_type": "markdown",
      "metadata": {
        "id": "TEzWubQlF42g"
      },
      "source": [
        "See how the PageRank order is established fairly quickly, and the vector converges on the value we calculated earlier after a few tens of repeats.\n",
        "\n",
        "Congratulations! You've just calculated your first PageRank!"
      ]
    },
    {
      "cell_type": "markdown",
      "metadata": {
        "id": "EpAByDZDF42g"
      },
      "source": [
        "### Damping Parameter\n",
        "The system we just studied converged fairly quickly to the correct answer.\n",
        "Let's consider an extension to our micro-internet where things start to go wrong.\n",
        "\n",
        "Say a new website is added to the micro-internet: *Geoff's* Website.\n",
        "This website is linked to by *FaceSpace* and only links to itself.\n",
        "![An Expanded Micro-Internet](readonly/internet2.png \"An Expanded Micro-Internet\")\n",
        "\n",
        "Intuitively, only *FaceSpace*, which is in the bottom half of the page rank, links to this website amongst the two others it links to,\n",
        "so we might expect *Geoff's* site to have a correspondingly low PageRank score.\n",
        "\n",
        "Build the new $L$ matrix for the expanded micro-internet, and use Power-Iteration on the Procrastinating Pat vector.\n",
        "See what happens…"
      ]
    },
    {
      "cell_type": "code",
      "metadata": {
        "id": "5-_z-dbTF42g"
      },
      "source": [
        " # We'll call this one L2, to distinguish it from the previous L.\n",
        "L2 = np.array([[0,   1/2, 1/3, 0, 0,   0, 0 ],\n",
        "               [1/3, 0,   0,   0, 1/2, 0, 0 ],\n",
        "               [1/3, 1/2, 0,   1, 0,   1/3, 0 ],\n",
        "               [1/3, 0,   1/3, 0, 1/2, 1/3, 0 ],\n",
        "               [0,   0,   0,   0, 0,   0, 0 ],\n",
        "               [0,   0,   1/3, 0, 0,   0, 0 ],\n",
        "               [0,   0,   0,   0, 0,   1/3, 1 ]])"
      ],
      "execution_count": null,
      "outputs": []
    },
    {
      "cell_type": "code",
      "metadata": {
        "id": "ZzJ19GaZF42g",
        "outputId": "3d63a6a2-d0c9-4f94-f768-9574d44e6b37"
      },
      "source": [
        "r = 100 * np.ones(7) / 7 # Sets up this vector (6 entries of 1/6 × 100 each)\n",
        "lastR = r\n",
        "r = L2 @ r\n",
        "i = 0\n",
        "while la.norm(lastR - r) > 0.01 :\n",
        "    lastR = r\n",
        "    r = L2 @ r\n",
        "    i += 1\n",
        "print(str(i) + \" iterations to convergence.\")\n",
        "r"
      ],
      "execution_count": null,
      "outputs": [
        {
          "output_type": "stream",
          "text": [
            "131 iterations to convergence.\n"
          ],
          "name": "stdout"
        },
        {
          "output_type": "execute_result",
          "data": {
            "text/plain": [
              "array([  0.03046998,   0.01064323,   0.07126612,   0.04423198,\n",
              "         0.        ,   0.02489342,  99.81849527])"
            ]
          },
          "metadata": {
            "tags": []
          },
          "execution_count": 34
        }
      ]
    },
    {
      "cell_type": "markdown",
      "metadata": {
        "id": "0nBYF2h3F42g"
      },
      "source": [
        "That's no good! *Geoff* seems to be taking all the traffic on the micro-internet, and somehow coming at the top of the PageRank.\n",
        "This behaviour can be understood, because once a Pat get's to *Geoff's* Website, they can't leave, as all links head back to Geoff.\n",
        "\n",
        "To combat this, we can add a small probability that the Procrastinating Pats don't follow any link on a webpage, but instead visit a website on the micro-internet at random.\n",
        "We'll say the probability of them following a link is $d$ and the probability of choosing a random website is therefore $1-d$.\n",
        "We can use a new matrix to work out where the Pat's visit each minute.\n",
        "$$ M = d \\, L + \\frac{1-d}{n} \\, J $$\n",
        "where $J$ is an $n\\times n$ matrix where every element is one.\n",
        "\n",
        "If $d$ is one, we have the case we had previously, whereas if $d$ is zero, we will always visit a random webpage and therefore all webpages will be equally likely and equally ranked.\n",
        "For this extension to work best, $1-d$ should be somewhat small - though we won't go into a discussion about exactly how small.\n",
        "\n",
        "Let's retry this PageRank with this extension."
      ]
    },
    {
      "cell_type": "code",
      "metadata": {
        "id": "EZS8QJ9JF42g"
      },
      "source": [
        "d = 0.5 # Feel free to play with this parameter after running the code once.\n",
        "M = d * L2 + (1-d)/7 * np.ones([7, 7]) # np.ones() is the J matrix, with ones for each entry."
      ],
      "execution_count": null,
      "outputs": []
    },
    {
      "cell_type": "code",
      "metadata": {
        "id": "dL-RiLOwF42g",
        "outputId": "a16f3f01-7c39-4a21-cb0b-1e7a08df5afe"
      },
      "source": [
        "r = 100 * np.ones(7) / 7 # Sets up this vector (6 entries of 1/6 × 100 each)\n",
        "lastR = r\n",
        "r = M @ r\n",
        "i = 0\n",
        "while la.norm(lastR - r) > 0.01 :\n",
        "    lastR = r\n",
        "    r = M @ r\n",
        "    i += 1\n",
        "print(str(i) + \" iterations to convergence.\")\n",
        "r"
      ],
      "execution_count": null,
      "outputs": [
        {
          "output_type": "stream",
          "text": [
            "8 iterations to convergence.\n"
          ],
          "name": "stdout"
        },
        {
          "output_type": "execute_result",
          "data": {
            "text/plain": [
              "array([ 13.68217054,  11.20902965,  22.41964343,  16.7593433 ,\n",
              "         7.14285714,  10.87976354,  17.90719239])"
            ]
          },
          "metadata": {
            "tags": []
          },
          "execution_count": 36
        }
      ]
    },
    {
      "cell_type": "markdown",
      "metadata": {
        "id": "-RbmCsdyF42g"
      },
      "source": [
        "This is certainly better, the PageRank gives sensible numbers for the Procrastinating Pats that end up on each webpage.\n",
        "This method still predicts Geoff has a high ranking webpage however.\n",
        "This could be seen as a consequence of using a small network. We could also get around the problem by not counting self-links when producing the L matrix (an if a website has no outgoing links, make it link to all websites equally).\n",
        "We won't look further down this route, as this is in the realm of improvements to PageRank, rather than eigenproblems.\n",
        "\n",
        "You are now in a good position, having gained an understanding of PageRank, to produce your own code to calculate the PageRank of a website with thousands of entries.\n",
        "\n",
        "Good Luck!"
      ]
    },
    {
      "cell_type": "markdown",
      "metadata": {
        "id": "1mQVP86kF42h"
      },
      "source": [
        "## Part 2 - Assessment\n",
        "In this assessment, you will be asked to produce a function that can calculate the PageRank for an arbitrarily large probability matrix.\n",
        "This, the final assignment of the course, will give less guidance than previous assessments.\n",
        "You will be expected to utilise code from earlier in the worksheet and re-purpose it to your needs.\n",
        "\n",
        "### How to submit\n",
        "Edit the code in the cell below to complete the assignment.\n",
        "Once you are finished and happy with it, press the *Submit Assignment* button at the top of this notebook.\n",
        "\n",
        "Please don't change any of the function names, as these will be checked by the grading script.\n",
        "\n",
        "If you have further questions about submissions or programming assignments, here is a [list](https://www.coursera.org/learn/linear-algebra-machine-learning/discussions/weeks/1/threads/jB4klkn5EeibtBIQyzFmQg) of Q&A. You can also raise an issue on the discussion forum. Good luck!"
      ]
    },
    {
      "cell_type": "code",
      "metadata": {
        "id": "fKvu0UIFF42h"
      },
      "source": [
        "# PACKAGE\n",
        "# Here are the imports again, just in case you need them.\n",
        "# There is no need to edit or submit this cell.\n",
        "import numpy as np\n",
        "import numpy.linalg as la\n",
        "from readonly.PageRankFunctions import *\n",
        "np.set_printoptions(suppress=True)"
      ],
      "execution_count": null,
      "outputs": []
    },
    {
      "cell_type": "code",
      "metadata": {
        "id": "btrI7NNYF42h"
      },
      "source": [
        "# GRADED FUNCTION\n",
        "# Complete this function to provide the PageRank for an arbitrarily sized internet.\n",
        "# I.e. the principal eigenvector of the damped system, using the power iteration method.\n",
        "# (Normalisation doesn't matter here)\n",
        "# The functions inputs are the linkMatrix, and d the damping parameter - as defined in this worksheet.\n",
        "# (The damping parameter, d, will be set by the function - no need to set this yourself.)\n",
        "def pageRank(linkMatrix, d) :\n",
        "    n = linkMatrix.shape[0]\n",
        "    r = 100 * np.ones(n) / n # Sets up this vector (6 entries of 1/6 × 100 each)\n",
        "    M = d * linkMatrix + (1-d)/n * np.ones([n, n])\n",
        "    lastR = r\n",
        "    r = M @ r\n",
        "    i = 0\n",
        "    while la.norm(lastR - r) > 0.01 :\n",
        "        lastR = r\n",
        "        r = M @ r\n",
        "        i += 1\n",
        "    print(str(i) + \" iterations to convergence.\")\n",
        "    return r\n"
      ],
      "execution_count": null,
      "outputs": []
    },
    {
      "cell_type": "markdown",
      "metadata": {
        "id": "LB6zJXz6F42h"
      },
      "source": [
        "## Test your code before submission\n",
        "To test the code you've written above, run the cell (select the cell above, then press the play button [ ▶| ] or press shift-enter).\n",
        "You can then use the code below to test out your function.\n",
        "You don't need to submit this cell; you can edit and run it as much as you like."
      ]
    },
    {
      "cell_type": "code",
      "metadata": {
        "id": "7GkABblZF42h"
      },
      "source": [
        "# Use the following function to generate internets of different sizes.\n",
        "generate_internet(5)"
      ],
      "execution_count": null,
      "outputs": []
    },
    {
      "cell_type": "code",
      "metadata": {
        "id": "aSVruJkVF42h"
      },
      "source": [
        "# Test your PageRank method against the built in \"eig\" method.\n",
        "# You should see yours is a lot faster for large internets\n",
        "L = generate_internet(10)"
      ],
      "execution_count": null,
      "outputs": []
    },
    {
      "cell_type": "code",
      "metadata": {
        "id": "CNq-prW6F42h",
        "outputId": "8b2bd5a1-47f6-4321-ff24-be973e43f3cc"
      },
      "source": [
        "pageRank(L, 1)"
      ],
      "execution_count": null,
      "outputs": [
        {
          "output_type": "stream",
          "text": [
            "8 iterations to convergence.\n"
          ],
          "name": "stdout"
        },
        {
          "output_type": "execute_result",
          "data": {
            "text/plain": [
              "array([  5.71446875,  17.14109375,   8.57184375,   8.57184375,\n",
              "        14.28703125,   5.71446875,  14.28371875,   5.71446875,\n",
              "        11.42921875,   8.57184375])"
            ]
          },
          "metadata": {
            "tags": []
          },
          "execution_count": 44
        }
      ]
    },
    {
      "cell_type": "code",
      "metadata": {
        "id": "2x-RMVjrF42h",
        "outputId": "76cf542b-459c-4aee-f829-69979b87053e"
      },
      "source": [
        "# Do note, this is calculating the eigenvalues of the link matrix, L,\n",
        "# without any damping. It may give different results that your pageRank function.\n",
        "# If you wish, you could modify this cell to include damping.\n",
        "# (There is no credit for this though)\n",
        "eVals, eVecs = la.eig(L) # Gets the eigenvalues and vectors\n",
        "order = np.absolute(eVals).argsort()[::-1] # Orders them by their eigenvalues\n",
        "eVals = eVals[order]\n",
        "eVecs = eVecs[:,order]\n",
        "\n",
        "r = eVecs[:, 0]\n",
        "100 * np.real(r / np.sum(r))"
      ],
      "execution_count": null,
      "outputs": [
        {
          "output_type": "execute_result",
          "data": {
            "text/plain": [
              "array([  5.71428572,  17.14285714,   8.57142857,   8.57142857,\n",
              "        14.28571428,   5.71428572,  14.28571428,   5.71428572,\n",
              "        11.42857143,   8.57142857])"
            ]
          },
          "metadata": {
            "tags": []
          },
          "execution_count": 45
        }
      ]
    },
    {
      "cell_type": "code",
      "metadata": {
        "id": "-ieRefa9F42h",
        "outputId": "cb5ab6cd-e34b-4e0f-fac1-4f139dbd7e03"
      },
      "source": [
        "# You may wish to view the PageRank graphically.\n",
        "# This code will draw a bar chart, for each (numbered) website on the generated internet,\n",
        "# The height of each bar will be the score in the PageRank.\n",
        "# Run this code to see the PageRank for each internet you generate.\n",
        "# Hopefully you should see what you might expect\n",
        "# - there are a few clusters of important websites, but most on the internet are rubbish!\n",
        "%pylab notebook\n",
        "r = pageRank(generate_internet(100), 0.9)\n",
        "plt.bar(arange(r.shape[0]), r);"
      ],
      "execution_count": null,
      "outputs": [
        {
          "output_type": "stream",
          "text": [
            "Populating the interactive namespace from numpy and matplotlib\n",
            "38 iterations to convergence.\n"
          ],
          "name": "stdout"
        },
        {
          "output_type": "display_data",
          "data": {
            "application/javascript": [
              "/* Put everything inside the global mpl namespace */\n",
              "window.mpl = {};\n",
              "\n",
              "\n",
              "mpl.get_websocket_type = function() {\n",
              "    if (typeof(WebSocket) !== 'undefined') {\n",
              "        return WebSocket;\n",
              "    } else if (typeof(MozWebSocket) !== 'undefined') {\n",
              "        return MozWebSocket;\n",
              "    } else {\n",
              "        alert('Your browser does not have WebSocket support.' +\n",
              "              'Please try Chrome, Safari or Firefox ≥ 6. ' +\n",
              "              'Firefox 4 and 5 are also supported but you ' +\n",
              "              'have to enable WebSockets in about:config.');\n",
              "    };\n",
              "}\n",
              "\n",
              "mpl.figure = function(figure_id, websocket, ondownload, parent_element) {\n",
              "    this.id = figure_id;\n",
              "\n",
              "    this.ws = websocket;\n",
              "\n",
              "    this.supports_binary = (this.ws.binaryType != undefined);\n",
              "\n",
              "    if (!this.supports_binary) {\n",
              "        var warnings = document.getElementById(\"mpl-warnings\");\n",
              "        if (warnings) {\n",
              "            warnings.style.display = 'block';\n",
              "            warnings.textContent = (\n",
              "                \"This browser does not support binary websocket messages. \" +\n",
              "                    \"Performance may be slow.\");\n",
              "        }\n",
              "    }\n",
              "\n",
              "    this.imageObj = new Image();\n",
              "\n",
              "    this.context = undefined;\n",
              "    this.message = undefined;\n",
              "    this.canvas = undefined;\n",
              "    this.rubberband_canvas = undefined;\n",
              "    this.rubberband_context = undefined;\n",
              "    this.format_dropdown = undefined;\n",
              "\n",
              "    this.image_mode = 'full';\n",
              "\n",
              "    this.root = $('<div/>');\n",
              "    this._root_extra_style(this.root)\n",
              "    this.root.attr('style', 'display: inline-block');\n",
              "\n",
              "    $(parent_element).append(this.root);\n",
              "\n",
              "    this._init_header(this);\n",
              "    this._init_canvas(this);\n",
              "    this._init_toolbar(this);\n",
              "\n",
              "    var fig = this;\n",
              "\n",
              "    this.waiting = false;\n",
              "\n",
              "    this.ws.onopen =  function () {\n",
              "            fig.send_message(\"supports_binary\", {value: fig.supports_binary});\n",
              "            fig.send_message(\"send_image_mode\", {});\n",
              "            if (mpl.ratio != 1) {\n",
              "                fig.send_message(\"set_dpi_ratio\", {'dpi_ratio': mpl.ratio});\n",
              "            }\n",
              "            fig.send_message(\"refresh\", {});\n",
              "        }\n",
              "\n",
              "    this.imageObj.onload = function() {\n",
              "            if (fig.image_mode == 'full') {\n",
              "                // Full images could contain transparency (where diff images\n",
              "                // almost always do), so we need to clear the canvas so that\n",
              "                // there is no ghosting.\n",
              "                fig.context.clearRect(0, 0, fig.canvas.width, fig.canvas.height);\n",
              "            }\n",
              "            fig.context.drawImage(fig.imageObj, 0, 0);\n",
              "        };\n",
              "\n",
              "    this.imageObj.onunload = function() {\n",
              "        this.ws.close();\n",
              "    }\n",
              "\n",
              "    this.ws.onmessage = this._make_on_message_function(this);\n",
              "\n",
              "    this.ondownload = ondownload;\n",
              "}\n",
              "\n",
              "mpl.figure.prototype._init_header = function() {\n",
              "    var titlebar = $(\n",
              "        '<div class=\"ui-dialog-titlebar ui-widget-header ui-corner-all ' +\n",
              "        'ui-helper-clearfix\"/>');\n",
              "    var titletext = $(\n",
              "        '<div class=\"ui-dialog-title\" style=\"width: 100%; ' +\n",
              "        'text-align: center; padding: 3px;\"/>');\n",
              "    titlebar.append(titletext)\n",
              "    this.root.append(titlebar);\n",
              "    this.header = titletext[0];\n",
              "}\n",
              "\n",
              "\n",
              "\n",
              "mpl.figure.prototype._canvas_extra_style = function(canvas_div) {\n",
              "\n",
              "}\n",
              "\n",
              "\n",
              "mpl.figure.prototype._root_extra_style = function(canvas_div) {\n",
              "\n",
              "}\n",
              "\n",
              "mpl.figure.prototype._init_canvas = function() {\n",
              "    var fig = this;\n",
              "\n",
              "    var canvas_div = $('<div/>');\n",
              "\n",
              "    canvas_div.attr('style', 'position: relative; clear: both; outline: 0');\n",
              "\n",
              "    function canvas_keyboard_event(event) {\n",
              "        return fig.key_event(event, event['data']);\n",
              "    }\n",
              "\n",
              "    canvas_div.keydown('key_press', canvas_keyboard_event);\n",
              "    canvas_div.keyup('key_release', canvas_keyboard_event);\n",
              "    this.canvas_div = canvas_div\n",
              "    this._canvas_extra_style(canvas_div)\n",
              "    this.root.append(canvas_div);\n",
              "\n",
              "    var canvas = $('<canvas/>');\n",
              "    canvas.addClass('mpl-canvas');\n",
              "    canvas.attr('style', \"left: 0; top: 0; z-index: 0; outline: 0\")\n",
              "\n",
              "    this.canvas = canvas[0];\n",
              "    this.context = canvas[0].getContext(\"2d\");\n",
              "\n",
              "    var backingStore = this.context.backingStorePixelRatio ||\n",
              "\tthis.context.webkitBackingStorePixelRatio ||\n",
              "\tthis.context.mozBackingStorePixelRatio ||\n",
              "\tthis.context.msBackingStorePixelRatio ||\n",
              "\tthis.context.oBackingStorePixelRatio ||\n",
              "\tthis.context.backingStorePixelRatio || 1;\n",
              "\n",
              "    mpl.ratio = (window.devicePixelRatio || 1) / backingStore;\n",
              "\n",
              "    var rubberband = $('<canvas/>');\n",
              "    rubberband.attr('style', \"position: absolute; left: 0; top: 0; z-index: 1;\")\n",
              "\n",
              "    var pass_mouse_events = true;\n",
              "\n",
              "    canvas_div.resizable({\n",
              "        start: function(event, ui) {\n",
              "            pass_mouse_events = false;\n",
              "        },\n",
              "        resize: function(event, ui) {\n",
              "            fig.request_resize(ui.size.width, ui.size.height);\n",
              "        },\n",
              "        stop: function(event, ui) {\n",
              "            pass_mouse_events = true;\n",
              "            fig.request_resize(ui.size.width, ui.size.height);\n",
              "        },\n",
              "    });\n",
              "\n",
              "    function mouse_event_fn(event) {\n",
              "        if (pass_mouse_events)\n",
              "            return fig.mouse_event(event, event['data']);\n",
              "    }\n",
              "\n",
              "    rubberband.mousedown('button_press', mouse_event_fn);\n",
              "    rubberband.mouseup('button_release', mouse_event_fn);\n",
              "    // Throttle sequential mouse events to 1 every 20ms.\n",
              "    rubberband.mousemove('motion_notify', mouse_event_fn);\n",
              "\n",
              "    rubberband.mouseenter('figure_enter', mouse_event_fn);\n",
              "    rubberband.mouseleave('figure_leave', mouse_event_fn);\n",
              "\n",
              "    canvas_div.on(\"wheel\", function (event) {\n",
              "        event = event.originalEvent;\n",
              "        event['data'] = 'scroll'\n",
              "        if (event.deltaY < 0) {\n",
              "            event.step = 1;\n",
              "        } else {\n",
              "            event.step = -1;\n",
              "        }\n",
              "        mouse_event_fn(event);\n",
              "    });\n",
              "\n",
              "    canvas_div.append(canvas);\n",
              "    canvas_div.append(rubberband);\n",
              "\n",
              "    this.rubberband = rubberband;\n",
              "    this.rubberband_canvas = rubberband[0];\n",
              "    this.rubberband_context = rubberband[0].getContext(\"2d\");\n",
              "    this.rubberband_context.strokeStyle = \"#000000\";\n",
              "\n",
              "    this._resize_canvas = function(width, height) {\n",
              "        // Keep the size of the canvas, canvas container, and rubber band\n",
              "        // canvas in synch.\n",
              "        canvas_div.css('width', width)\n",
              "        canvas_div.css('height', height)\n",
              "\n",
              "        canvas.attr('width', width * mpl.ratio);\n",
              "        canvas.attr('height', height * mpl.ratio);\n",
              "        canvas.attr('style', 'width: ' + width + 'px; height: ' + height + 'px;');\n",
              "\n",
              "        rubberband.attr('width', width);\n",
              "        rubberband.attr('height', height);\n",
              "    }\n",
              "\n",
              "    // Set the figure to an initial 600x600px, this will subsequently be updated\n",
              "    // upon first draw.\n",
              "    this._resize_canvas(600, 600);\n",
              "\n",
              "    // Disable right mouse context menu.\n",
              "    $(this.rubberband_canvas).bind(\"contextmenu\",function(e){\n",
              "        return false;\n",
              "    });\n",
              "\n",
              "    function set_focus () {\n",
              "        canvas.focus();\n",
              "        canvas_div.focus();\n",
              "    }\n",
              "\n",
              "    window.setTimeout(set_focus, 100);\n",
              "}\n",
              "\n",
              "mpl.figure.prototype._init_toolbar = function() {\n",
              "    var fig = this;\n",
              "\n",
              "    var nav_element = $('<div/>')\n",
              "    nav_element.attr('style', 'width: 100%');\n",
              "    this.root.append(nav_element);\n",
              "\n",
              "    // Define a callback function for later on.\n",
              "    function toolbar_event(event) {\n",
              "        return fig.toolbar_button_onclick(event['data']);\n",
              "    }\n",
              "    function toolbar_mouse_event(event) {\n",
              "        return fig.toolbar_button_onmouseover(event['data']);\n",
              "    }\n",
              "\n",
              "    for(var toolbar_ind in mpl.toolbar_items) {\n",
              "        var name = mpl.toolbar_items[toolbar_ind][0];\n",
              "        var tooltip = mpl.toolbar_items[toolbar_ind][1];\n",
              "        var image = mpl.toolbar_items[toolbar_ind][2];\n",
              "        var method_name = mpl.toolbar_items[toolbar_ind][3];\n",
              "\n",
              "        if (!name) {\n",
              "            // put a spacer in here.\n",
              "            continue;\n",
              "        }\n",
              "        var button = $('<button/>');\n",
              "        button.addClass('ui-button ui-widget ui-state-default ui-corner-all ' +\n",
              "                        'ui-button-icon-only');\n",
              "        button.attr('role', 'button');\n",
              "        button.attr('aria-disabled', 'false');\n",
              "        button.click(method_name, toolbar_event);\n",
              "        button.mouseover(tooltip, toolbar_mouse_event);\n",
              "\n",
              "        var icon_img = $('<span/>');\n",
              "        icon_img.addClass('ui-button-icon-primary ui-icon');\n",
              "        icon_img.addClass(image);\n",
              "        icon_img.addClass('ui-corner-all');\n",
              "\n",
              "        var tooltip_span = $('<span/>');\n",
              "        tooltip_span.addClass('ui-button-text');\n",
              "        tooltip_span.html(tooltip);\n",
              "\n",
              "        button.append(icon_img);\n",
              "        button.append(tooltip_span);\n",
              "\n",
              "        nav_element.append(button);\n",
              "    }\n",
              "\n",
              "    var fmt_picker_span = $('<span/>');\n",
              "\n",
              "    var fmt_picker = $('<select/>');\n",
              "    fmt_picker.addClass('mpl-toolbar-option ui-widget ui-widget-content');\n",
              "    fmt_picker_span.append(fmt_picker);\n",
              "    nav_element.append(fmt_picker_span);\n",
              "    this.format_dropdown = fmt_picker[0];\n",
              "\n",
              "    for (var ind in mpl.extensions) {\n",
              "        var fmt = mpl.extensions[ind];\n",
              "        var option = $(\n",
              "            '<option/>', {selected: fmt === mpl.default_extension}).html(fmt);\n",
              "        fmt_picker.append(option)\n",
              "    }\n",
              "\n",
              "    // Add hover states to the ui-buttons\n",
              "    $( \".ui-button\" ).hover(\n",
              "        function() { $(this).addClass(\"ui-state-hover\");},\n",
              "        function() { $(this).removeClass(\"ui-state-hover\");}\n",
              "    );\n",
              "\n",
              "    var status_bar = $('<span class=\"mpl-message\"/>');\n",
              "    nav_element.append(status_bar);\n",
              "    this.message = status_bar[0];\n",
              "}\n",
              "\n",
              "mpl.figure.prototype.request_resize = function(x_pixels, y_pixels) {\n",
              "    // Request matplotlib to resize the figure. Matplotlib will then trigger a resize in the client,\n",
              "    // which will in turn request a refresh of the image.\n",
              "    this.send_message('resize', {'width': x_pixels, 'height': y_pixels});\n",
              "}\n",
              "\n",
              "mpl.figure.prototype.send_message = function(type, properties) {\n",
              "    properties['type'] = type;\n",
              "    properties['figure_id'] = this.id;\n",
              "    this.ws.send(JSON.stringify(properties));\n",
              "}\n",
              "\n",
              "mpl.figure.prototype.send_draw_message = function() {\n",
              "    if (!this.waiting) {\n",
              "        this.waiting = true;\n",
              "        this.ws.send(JSON.stringify({type: \"draw\", figure_id: this.id}));\n",
              "    }\n",
              "}\n",
              "\n",
              "\n",
              "mpl.figure.prototype.handle_save = function(fig, msg) {\n",
              "    var format_dropdown = fig.format_dropdown;\n",
              "    var format = format_dropdown.options[format_dropdown.selectedIndex].value;\n",
              "    fig.ondownload(fig, format);\n",
              "}\n",
              "\n",
              "\n",
              "mpl.figure.prototype.handle_resize = function(fig, msg) {\n",
              "    var size = msg['size'];\n",
              "    if (size[0] != fig.canvas.width || size[1] != fig.canvas.height) {\n",
              "        fig._resize_canvas(size[0], size[1]);\n",
              "        fig.send_message(\"refresh\", {});\n",
              "    };\n",
              "}\n",
              "\n",
              "mpl.figure.prototype.handle_rubberband = function(fig, msg) {\n",
              "    var x0 = msg['x0'] / mpl.ratio;\n",
              "    var y0 = (fig.canvas.height - msg['y0']) / mpl.ratio;\n",
              "    var x1 = msg['x1'] / mpl.ratio;\n",
              "    var y1 = (fig.canvas.height - msg['y1']) / mpl.ratio;\n",
              "    x0 = Math.floor(x0) + 0.5;\n",
              "    y0 = Math.floor(y0) + 0.5;\n",
              "    x1 = Math.floor(x1) + 0.5;\n",
              "    y1 = Math.floor(y1) + 0.5;\n",
              "    var min_x = Math.min(x0, x1);\n",
              "    var min_y = Math.min(y0, y1);\n",
              "    var width = Math.abs(x1 - x0);\n",
              "    var height = Math.abs(y1 - y0);\n",
              "\n",
              "    fig.rubberband_context.clearRect(\n",
              "        0, 0, fig.canvas.width, fig.canvas.height);\n",
              "\n",
              "    fig.rubberband_context.strokeRect(min_x, min_y, width, height);\n",
              "}\n",
              "\n",
              "mpl.figure.prototype.handle_figure_label = function(fig, msg) {\n",
              "    // Updates the figure title.\n",
              "    fig.header.textContent = msg['label'];\n",
              "}\n",
              "\n",
              "mpl.figure.prototype.handle_cursor = function(fig, msg) {\n",
              "    var cursor = msg['cursor'];\n",
              "    switch(cursor)\n",
              "    {\n",
              "    case 0:\n",
              "        cursor = 'pointer';\n",
              "        break;\n",
              "    case 1:\n",
              "        cursor = 'default';\n",
              "        break;\n",
              "    case 2:\n",
              "        cursor = 'crosshair';\n",
              "        break;\n",
              "    case 3:\n",
              "        cursor = 'move';\n",
              "        break;\n",
              "    }\n",
              "    fig.rubberband_canvas.style.cursor = cursor;\n",
              "}\n",
              "\n",
              "mpl.figure.prototype.handle_message = function(fig, msg) {\n",
              "    fig.message.textContent = msg['message'];\n",
              "}\n",
              "\n",
              "mpl.figure.prototype.handle_draw = function(fig, msg) {\n",
              "    // Request the server to send over a new figure.\n",
              "    fig.send_draw_message();\n",
              "}\n",
              "\n",
              "mpl.figure.prototype.handle_image_mode = function(fig, msg) {\n",
              "    fig.image_mode = msg['mode'];\n",
              "}\n",
              "\n",
              "mpl.figure.prototype.updated_canvas_event = function() {\n",
              "    // Called whenever the canvas gets updated.\n",
              "    this.send_message(\"ack\", {});\n",
              "}\n",
              "\n",
              "// A function to construct a web socket function for onmessage handling.\n",
              "// Called in the figure constructor.\n",
              "mpl.figure.prototype._make_on_message_function = function(fig) {\n",
              "    return function socket_on_message(evt) {\n",
              "        if (evt.data instanceof Blob) {\n",
              "            /* FIXME: We get \"Resource interpreted as Image but\n",
              "             * transferred with MIME type text/plain:\" errors on\n",
              "             * Chrome.  But how to set the MIME type?  It doesn't seem\n",
              "             * to be part of the websocket stream */\n",
              "            evt.data.type = \"image/png\";\n",
              "\n",
              "            /* Free the memory for the previous frames */\n",
              "            if (fig.imageObj.src) {\n",
              "                (window.URL || window.webkitURL).revokeObjectURL(\n",
              "                    fig.imageObj.src);\n",
              "            }\n",
              "\n",
              "            fig.imageObj.src = (window.URL || window.webkitURL).createObjectURL(\n",
              "                evt.data);\n",
              "            fig.updated_canvas_event();\n",
              "            fig.waiting = false;\n",
              "            return;\n",
              "        }\n",
              "        else if (typeof evt.data === 'string' && evt.data.slice(0, 21) == \"data:image/png;base64\") {\n",
              "            fig.imageObj.src = evt.data;\n",
              "            fig.updated_canvas_event();\n",
              "            fig.waiting = false;\n",
              "            return;\n",
              "        }\n",
              "\n",
              "        var msg = JSON.parse(evt.data);\n",
              "        var msg_type = msg['type'];\n",
              "\n",
              "        // Call the  \"handle_{type}\" callback, which takes\n",
              "        // the figure and JSON message as its only arguments.\n",
              "        try {\n",
              "            var callback = fig[\"handle_\" + msg_type];\n",
              "        } catch (e) {\n",
              "            console.log(\"No handler for the '\" + msg_type + \"' message type: \", msg);\n",
              "            return;\n",
              "        }\n",
              "\n",
              "        if (callback) {\n",
              "            try {\n",
              "                // console.log(\"Handling '\" + msg_type + \"' message: \", msg);\n",
              "                callback(fig, msg);\n",
              "            } catch (e) {\n",
              "                console.log(\"Exception inside the 'handler_\" + msg_type + \"' callback:\", e, e.stack, msg);\n",
              "            }\n",
              "        }\n",
              "    };\n",
              "}\n",
              "\n",
              "// from http://stackoverflow.com/questions/1114465/getting-mouse-location-in-canvas\n",
              "mpl.findpos = function(e) {\n",
              "    //this section is from http://www.quirksmode.org/js/events_properties.html\n",
              "    var targ;\n",
              "    if (!e)\n",
              "        e = window.event;\n",
              "    if (e.target)\n",
              "        targ = e.target;\n",
              "    else if (e.srcElement)\n",
              "        targ = e.srcElement;\n",
              "    if (targ.nodeType == 3) // defeat Safari bug\n",
              "        targ = targ.parentNode;\n",
              "\n",
              "    // jQuery normalizes the pageX and pageY\n",
              "    // pageX,Y are the mouse positions relative to the document\n",
              "    // offset() returns the position of the element relative to the document\n",
              "    var x = e.pageX - $(targ).offset().left;\n",
              "    var y = e.pageY - $(targ).offset().top;\n",
              "\n",
              "    return {\"x\": x, \"y\": y};\n",
              "};\n",
              "\n",
              "/*\n",
              " * return a copy of an object with only non-object keys\n",
              " * we need this to avoid circular references\n",
              " * http://stackoverflow.com/a/24161582/3208463\n",
              " */\n",
              "function simpleKeys (original) {\n",
              "  return Object.keys(original).reduce(function (obj, key) {\n",
              "    if (typeof original[key] !== 'object')\n",
              "        obj[key] = original[key]\n",
              "    return obj;\n",
              "  }, {});\n",
              "}\n",
              "\n",
              "mpl.figure.prototype.mouse_event = function(event, name) {\n",
              "    var canvas_pos = mpl.findpos(event)\n",
              "\n",
              "    if (name === 'button_press')\n",
              "    {\n",
              "        this.canvas.focus();\n",
              "        this.canvas_div.focus();\n",
              "    }\n",
              "\n",
              "    var x = canvas_pos.x * mpl.ratio;\n",
              "    var y = canvas_pos.y * mpl.ratio;\n",
              "\n",
              "    this.send_message(name, {x: x, y: y, button: event.button,\n",
              "                             step: event.step,\n",
              "                             guiEvent: simpleKeys(event)});\n",
              "\n",
              "    /* This prevents the web browser from automatically changing to\n",
              "     * the text insertion cursor when the button is pressed.  We want\n",
              "     * to control all of the cursor setting manually through the\n",
              "     * 'cursor' event from matplotlib */\n",
              "    event.preventDefault();\n",
              "    return false;\n",
              "}\n",
              "\n",
              "mpl.figure.prototype._key_event_extra = function(event, name) {\n",
              "    // Handle any extra behaviour associated with a key event\n",
              "}\n",
              "\n",
              "mpl.figure.prototype.key_event = function(event, name) {\n",
              "\n",
              "    // Prevent repeat events\n",
              "    if (name == 'key_press')\n",
              "    {\n",
              "        if (event.which === this._key)\n",
              "            return;\n",
              "        else\n",
              "            this._key = event.which;\n",
              "    }\n",
              "    if (name == 'key_release')\n",
              "        this._key = null;\n",
              "\n",
              "    var value = '';\n",
              "    if (event.ctrlKey && event.which != 17)\n",
              "        value += \"ctrl+\";\n",
              "    if (event.altKey && event.which != 18)\n",
              "        value += \"alt+\";\n",
              "    if (event.shiftKey && event.which != 16)\n",
              "        value += \"shift+\";\n",
              "\n",
              "    value += 'k';\n",
              "    value += event.which.toString();\n",
              "\n",
              "    this._key_event_extra(event, name);\n",
              "\n",
              "    this.send_message(name, {key: value,\n",
              "                             guiEvent: simpleKeys(event)});\n",
              "    return false;\n",
              "}\n",
              "\n",
              "mpl.figure.prototype.toolbar_button_onclick = function(name) {\n",
              "    if (name == 'download') {\n",
              "        this.handle_save(this, null);\n",
              "    } else {\n",
              "        this.send_message(\"toolbar_button\", {name: name});\n",
              "    }\n",
              "};\n",
              "\n",
              "mpl.figure.prototype.toolbar_button_onmouseover = function(tooltip) {\n",
              "    this.message.textContent = tooltip;\n",
              "};\n",
              "mpl.toolbar_items = [[\"Home\", \"Reset original view\", \"fa fa-home icon-home\", \"home\"], [\"Back\", \"Back to  previous view\", \"fa fa-arrow-left icon-arrow-left\", \"back\"], [\"Forward\", \"Forward to next view\", \"fa fa-arrow-right icon-arrow-right\", \"forward\"], [\"\", \"\", \"\", \"\"], [\"Pan\", \"Pan axes with left mouse, zoom with right\", \"fa fa-arrows icon-move\", \"pan\"], [\"Zoom\", \"Zoom to rectangle\", \"fa fa-square-o icon-check-empty\", \"zoom\"], [\"\", \"\", \"\", \"\"], [\"Download\", \"Download plot\", \"fa fa-floppy-o icon-save\", \"download\"]];\n",
              "\n",
              "mpl.extensions = [\"eps\", \"jpeg\", \"pdf\", \"png\", \"ps\", \"raw\", \"svg\", \"tif\"];\n",
              "\n",
              "mpl.default_extension = \"png\";var comm_websocket_adapter = function(comm) {\n",
              "    // Create a \"websocket\"-like object which calls the given IPython comm\n",
              "    // object with the appropriate methods. Currently this is a non binary\n",
              "    // socket, so there is still some room for performance tuning.\n",
              "    var ws = {};\n",
              "\n",
              "    ws.close = function() {\n",
              "        comm.close()\n",
              "    };\n",
              "    ws.send = function(m) {\n",
              "        //console.log('sending', m);\n",
              "        comm.send(m);\n",
              "    };\n",
              "    // Register the callback with on_msg.\n",
              "    comm.on_msg(function(msg) {\n",
              "        //console.log('receiving', msg['content']['data'], msg);\n",
              "        // Pass the mpl event to the overriden (by mpl) onmessage function.\n",
              "        ws.onmessage(msg['content']['data'])\n",
              "    });\n",
              "    return ws;\n",
              "}\n",
              "\n",
              "mpl.mpl_figure_comm = function(comm, msg) {\n",
              "    // This is the function which gets called when the mpl process\n",
              "    // starts-up an IPython Comm through the \"matplotlib\" channel.\n",
              "\n",
              "    var id = msg.content.data.id;\n",
              "    // Get hold of the div created by the display call when the Comm\n",
              "    // socket was opened in Python.\n",
              "    var element = $(\"#\" + id);\n",
              "    var ws_proxy = comm_websocket_adapter(comm)\n",
              "\n",
              "    function ondownload(figure, format) {\n",
              "        window.open(figure.imageObj.src);\n",
              "    }\n",
              "\n",
              "    var fig = new mpl.figure(id, ws_proxy,\n",
              "                           ondownload,\n",
              "                           element.get(0));\n",
              "\n",
              "    // Call onopen now - mpl needs it, as it is assuming we've passed it a real\n",
              "    // web socket which is closed, not our websocket->open comm proxy.\n",
              "    ws_proxy.onopen();\n",
              "\n",
              "    fig.parent_element = element.get(0);\n",
              "    fig.cell_info = mpl.find_output_cell(\"<div id='\" + id + \"'></div>\");\n",
              "    if (!fig.cell_info) {\n",
              "        console.error(\"Failed to find cell for figure\", id, fig);\n",
              "        return;\n",
              "    }\n",
              "\n",
              "    var output_index = fig.cell_info[2]\n",
              "    var cell = fig.cell_info[0];\n",
              "\n",
              "};\n",
              "\n",
              "mpl.figure.prototype.handle_close = function(fig, msg) {\n",
              "    var width = fig.canvas.width/mpl.ratio\n",
              "    fig.root.unbind('remove')\n",
              "\n",
              "    // Update the output cell to use the data from the current canvas.\n",
              "    fig.push_to_output();\n",
              "    var dataURL = fig.canvas.toDataURL();\n",
              "    // Re-enable the keyboard manager in IPython - without this line, in FF,\n",
              "    // the notebook keyboard shortcuts fail.\n",
              "    IPython.keyboard_manager.enable()\n",
              "    $(fig.parent_element).html('<img src=\"' + dataURL + '\" width=\"' + width + '\">');\n",
              "    fig.close_ws(fig, msg);\n",
              "}\n",
              "\n",
              "mpl.figure.prototype.close_ws = function(fig, msg){\n",
              "    fig.send_message('closing', msg);\n",
              "    // fig.ws.close()\n",
              "}\n",
              "\n",
              "mpl.figure.prototype.push_to_output = function(remove_interactive) {\n",
              "    // Turn the data on the canvas into data in the output cell.\n",
              "    var width = this.canvas.width/mpl.ratio\n",
              "    var dataURL = this.canvas.toDataURL();\n",
              "    this.cell_info[1]['text/html'] = '<img src=\"' + dataURL + '\" width=\"' + width + '\">';\n",
              "}\n",
              "\n",
              "mpl.figure.prototype.updated_canvas_event = function() {\n",
              "    // Tell IPython that the notebook contents must change.\n",
              "    IPython.notebook.set_dirty(true);\n",
              "    this.send_message(\"ack\", {});\n",
              "    var fig = this;\n",
              "    // Wait a second, then push the new image to the DOM so\n",
              "    // that it is saved nicely (might be nice to debounce this).\n",
              "    setTimeout(function () { fig.push_to_output() }, 1000);\n",
              "}\n",
              "\n",
              "mpl.figure.prototype._init_toolbar = function() {\n",
              "    var fig = this;\n",
              "\n",
              "    var nav_element = $('<div/>')\n",
              "    nav_element.attr('style', 'width: 100%');\n",
              "    this.root.append(nav_element);\n",
              "\n",
              "    // Define a callback function for later on.\n",
              "    function toolbar_event(event) {\n",
              "        return fig.toolbar_button_onclick(event['data']);\n",
              "    }\n",
              "    function toolbar_mouse_event(event) {\n",
              "        return fig.toolbar_button_onmouseover(event['data']);\n",
              "    }\n",
              "\n",
              "    for(var toolbar_ind in mpl.toolbar_items){\n",
              "        var name = mpl.toolbar_items[toolbar_ind][0];\n",
              "        var tooltip = mpl.toolbar_items[toolbar_ind][1];\n",
              "        var image = mpl.toolbar_items[toolbar_ind][2];\n",
              "        var method_name = mpl.toolbar_items[toolbar_ind][3];\n",
              "\n",
              "        if (!name) { continue; };\n",
              "\n",
              "        var button = $('<button class=\"btn btn-default\" href=\"#\" title=\"' + name + '\"><i class=\"fa ' + image + ' fa-lg\"></i></button>');\n",
              "        button.click(method_name, toolbar_event);\n",
              "        button.mouseover(tooltip, toolbar_mouse_event);\n",
              "        nav_element.append(button);\n",
              "    }\n",
              "\n",
              "    // Add the status bar.\n",
              "    var status_bar = $('<span class=\"mpl-message\" style=\"text-align:right; float: right;\"/>');\n",
              "    nav_element.append(status_bar);\n",
              "    this.message = status_bar[0];\n",
              "\n",
              "    // Add the close button to the window.\n",
              "    var buttongrp = $('<div class=\"btn-group inline pull-right\"></div>');\n",
              "    var button = $('<button class=\"btn btn-mini btn-primary\" href=\"#\" title=\"Stop Interaction\"><i class=\"fa fa-power-off icon-remove icon-large\"></i></button>');\n",
              "    button.click(function (evt) { fig.handle_close(fig, {}); } );\n",
              "    button.mouseover('Stop Interaction', toolbar_mouse_event);\n",
              "    buttongrp.append(button);\n",
              "    var titlebar = this.root.find($('.ui-dialog-titlebar'));\n",
              "    titlebar.prepend(buttongrp);\n",
              "}\n",
              "\n",
              "mpl.figure.prototype._root_extra_style = function(el){\n",
              "    var fig = this\n",
              "    el.on(\"remove\", function(){\n",
              "\tfig.close_ws(fig, {});\n",
              "    });\n",
              "}\n",
              "\n",
              "mpl.figure.prototype._canvas_extra_style = function(el){\n",
              "    // this is important to make the div 'focusable\n",
              "    el.attr('tabindex', 0)\n",
              "    // reach out to IPython and tell the keyboard manager to turn it's self\n",
              "    // off when our div gets focus\n",
              "\n",
              "    // location in version 3\n",
              "    if (IPython.notebook.keyboard_manager) {\n",
              "        IPython.notebook.keyboard_manager.register_events(el);\n",
              "    }\n",
              "    else {\n",
              "        // location in version 2\n",
              "        IPython.keyboard_manager.register_events(el);\n",
              "    }\n",
              "\n",
              "}\n",
              "\n",
              "mpl.figure.prototype._key_event_extra = function(event, name) {\n",
              "    var manager = IPython.notebook.keyboard_manager;\n",
              "    if (!manager)\n",
              "        manager = IPython.keyboard_manager;\n",
              "\n",
              "    // Check for shift+enter\n",
              "    if (event.shiftKey && event.which == 13) {\n",
              "        this.canvas_div.blur();\n",
              "        // select the cell after this one\n",
              "        var index = IPython.notebook.find_cell_index(this.cell_info[0]);\n",
              "        IPython.notebook.select(index + 1);\n",
              "    }\n",
              "}\n",
              "\n",
              "mpl.figure.prototype.handle_save = function(fig, msg) {\n",
              "    fig.ondownload(fig, null);\n",
              "}\n",
              "\n",
              "\n",
              "mpl.find_output_cell = function(html_output) {\n",
              "    // Return the cell and output element which can be found *uniquely* in the notebook.\n",
              "    // Note - this is a bit hacky, but it is done because the \"notebook_saving.Notebook\"\n",
              "    // IPython event is triggered only after the cells have been serialised, which for\n",
              "    // our purposes (turning an active figure into a static one), is too late.\n",
              "    var cells = IPython.notebook.get_cells();\n",
              "    var ncells = cells.length;\n",
              "    for (var i=0; i<ncells; i++) {\n",
              "        var cell = cells[i];\n",
              "        if (cell.cell_type === 'code'){\n",
              "            for (var j=0; j<cell.output_area.outputs.length; j++) {\n",
              "                var data = cell.output_area.outputs[j];\n",
              "                if (data.data) {\n",
              "                    // IPython >= 3 moved mimebundle to data attribute of output\n",
              "                    data = data.data;\n",
              "                }\n",
              "                if (data['text/html'] == html_output) {\n",
              "                    return [cell, data, j];\n",
              "                }\n",
              "            }\n",
              "        }\n",
              "    }\n",
              "}\n",
              "\n",
              "// Register the function which deals with the matplotlib target/channel.\n",
              "// The kernel may be null if the page has been refreshed.\n",
              "if (IPython.notebook.kernel != null) {\n",
              "    IPython.notebook.kernel.comm_manager.register_target('matplotlib', mpl.mpl_figure_comm);\n",
              "}\n"
            ],
            "text/plain": [
              "<IPython.core.display.Javascript object>"
            ]
          },
          "metadata": {
            "tags": []
          }
        },
        {
          "output_type": "display_data",
          "data": {
            "text/html": [
              "<img src=\"data:image/png;base64,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\" width=\"640\">"
            ],
            "text/plain": [
              "<IPython.core.display.HTML object>"
            ]
          },
          "metadata": {
            "tags": []
          }
        }
      ]
    },
    {
      "cell_type": "code",
      "metadata": {
        "id": "1Q1mrUlYF42h"
      },
      "source": [
        ""
      ],
      "execution_count": null,
      "outputs": []
    }
  ]
}